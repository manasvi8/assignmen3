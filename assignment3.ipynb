{
 "cells": [
  {
   "cell_type": "markdown",
   "id": "ccffe168-46a8-443e-b428-4543d39aeee6",
   "metadata": {},
   "source": [
    "1.Explain the significance of Python keywords and provide examples of five keywords?\n",
    "\n",
    "ans-Python keywords are reserved words that have specific meanings and functionalities in the language. They cannot be used as identifiers (variable names, function names, etc.) and are important for defining the structure and logic of a Python program.\n",
    "Examples are as follows:"
   ]
  },
  {
   "cell_type": "code",
   "execution_count": 1,
   "id": "04208537-ec70-47a8-937e-0583c3191d81",
   "metadata": {},
   "outputs": [
    {
     "name": "stdout",
     "output_type": "stream",
     "text": [
      "b is greater\n"
     ]
    }
   ],
   "source": [
    "#using if keyword\n",
    "a=2\n",
    "b=3\n",
    "if a>b:\n",
    "    print(\"a is greater\")\n",
    "else:\n",
    "    print(\"b is greater\")"
   ]
  },
  {
   "cell_type": "code",
   "execution_count": 5,
   "id": "e762f970-03e5-4d0c-a600-131020e5636e",
   "metadata": {},
   "outputs": [
    {
     "name": "stdout",
     "output_type": "stream",
     "text": [
      "True\n"
     ]
    }
   ],
   "source": [
    "#using in keyword\n",
    "a=\"ram\"\n",
    "b=\"shyam\"\n",
    "print(\"s\" in b)"
   ]
  },
  {
   "cell_type": "code",
   "execution_count": 3,
   "id": "6417ece0-5317-4725-bcc8-1e7baef81a95",
   "metadata": {},
   "outputs": [
    {
     "name": "stdout",
     "output_type": "stream",
     "text": [
      "0\n",
      "1\n",
      "2\n",
      "3\n",
      "4\n"
     ]
    }
   ],
   "source": [
    "#using for keyword\n",
    "for i in range(5):\n",
    "    print(i)"
   ]
  },
  {
   "cell_type": "code",
   "execution_count": 8,
   "id": "668df96d-47c8-4142-89bd-828ebf25eb4b",
   "metadata": {},
   "outputs": [
    {
     "name": "stdout",
     "output_type": "stream",
     "text": [
      "Count:  0\n",
      "Count:  1\n",
      "Count:  2\n"
     ]
    }
   ],
   "source": [
    "#using while keyword\n",
    "count = 0\n",
    "while count < 3:\n",
    "    print(\"Count: \", count)\n",
    "    count += 1"
   ]
  },
  {
   "cell_type": "code",
   "execution_count": 14,
   "id": "8d2823f2-494c-4724-b3cb-0191a9b37f22",
   "metadata": {},
   "outputs": [
    {
     "name": "stdout",
     "output_type": "stream",
     "text": [
      "5\n"
     ]
    }
   ],
   "source": [
    "#using and keyword\n",
    "a=7\n",
    "b=5\n",
    "print(a and b)\n",
    "\n",
    "    "
   ]
  },
  {
   "cell_type": "markdown",
   "id": "e664b062-f7b5-47d2-9387-6bd285a8eabf",
   "metadata": {},
   "source": [
    "2.Describe the rules for defining identifiers in Python and provide an example\n",
    "\n",
    "ans-It Must start with a letter (a-z, A-Z) or an underscore (_).\n",
    "    It Can be followed by letters, underscores, or digits (0-9).\n",
    "    Identifiers Cannot be a Python keyword.\n",
    "    Identifiers are Case-sensitive.\n",
    "example of defining identifier is as follows:"
   ]
  },
  {
   "cell_type": "code",
   "execution_count": 16,
   "id": "aa5c2f5f-1ae8-4801-a9b0-41630a2ba530",
   "metadata": {},
   "outputs": [
    {
     "name": "stdout",
     "output_type": "stream",
     "text": [
      "2\n"
     ]
    }
   ],
   "source": [
    "_my_identifier1=2\n",
    "print(_my_identifier1)"
   ]
  },
  {
   "cell_type": "markdown",
   "id": "441164fb-ba95-496c-b9f8-194dee541ccb",
   "metadata": {},
   "source": [
    "3.What are comments in Python, and why are they useful, Provide an example?\n",
    "\n",
    "ans-Comments are text that is ignored by the Python interpreter. They are useful for providing the explanations, documenting code, and making it more         readable. Comments start with the # symbol.Single line and multiline comment are the type of comment"
   ]
  },
  {
   "cell_type": "code",
   "execution_count": 18,
   "id": "6890c9fe-e91b-4fe4-9fda-12275c6df146",
   "metadata": {},
   "outputs": [],
   "source": [
    "#example\n",
    "#im a comment\n"
   ]
  },
  {
   "cell_type": "markdown",
   "id": "ef00de7f-deb7-4ae7-88de-ddd4cbb4e741",
   "metadata": {},
   "source": [
    "4.Why is proper indentation important in Python?\n",
    "\n",
    "ans-Proper indentation is important in Python because it defines the structure of the code. It is vital and is used to indicate blocks of code within control structures (e.g., loops, conditionals, functions). Incorrect indentation can lead to syntax errors or result in unintended logic.\n"
   ]
  },
  {
   "cell_type": "markdown",
   "id": "ba871eb9-4ccc-4cee-a557-d4c1509b373c",
   "metadata": {},
   "source": [
    "5.What happens if indentation is incorrect in Python.\n",
    "\n",
    "ans-Incorrect indentation in Python can lead to many syntax errors or alter the program's logic. For example, a block of code that should be part of a loop or conditional statement might not execute as expected, which can lead to logical errors."
   ]
  },
  {
   "cell_type": "markdown",
   "id": "42124ba9-d97e-41de-97f6-f2e1b34c24c3",
   "metadata": {},
   "source": [
    "6.. Differentiate between expression and statement in Python with examples?\n",
    "\n",
    "ans-\n",
    "Expression: An expression is a combination of values, variables, operators, and function calls that results in a single value.\n",
    "It can be as simple as a variable or a complex combination of elements.\n",
    "\n",
    "Statement: A statement is a complete line of code that performs an action. It can be a simple statement or a compound statement (block of code). Statements often include expressions."
   ]
  },
  {
   "cell_type": "code",
   "execution_count": 19,
   "id": "c3ce0171-93d9-4c41-bbe2-601b3a77100f",
   "metadata": {},
   "outputs": [
    {
     "name": "stdout",
     "output_type": "stream",
     "text": [
      "9\n"
     ]
    }
   ],
   "source": [
    "#example of expression\n",
    "a=5\n",
    "b=4\n",
    "sum=a+b\n",
    "print(sum)"
   ]
  },
  {
   "cell_type": "code",
   "execution_count": 20,
   "id": "95a041ac-8e0b-4652-b650-77c570b093db",
   "metadata": {},
   "outputs": [
    {
     "name": "stdout",
     "output_type": "stream",
     "text": [
      "hello world!!!!!\n"
     ]
    }
   ],
   "source": [
    "#example of statement\n",
    "print(\"hello world!!!!!\")"
   ]
  },
  {
   "cell_type": "code",
   "execution_count": null,
   "id": "f97eac9e-a1a5-44df-94b8-919dd6d0f1e6",
   "metadata": {},
   "outputs": [],
   "source": []
  }
 ],
 "metadata": {
  "kernelspec": {
   "display_name": "Python 3 (ipykernel)",
   "language": "python",
   "name": "python3"
  },
  "language_info": {
   "codemirror_mode": {
    "name": "ipython",
    "version": 3
   },
   "file_extension": ".py",
   "mimetype": "text/x-python",
   "name": "python",
   "nbconvert_exporter": "python",
   "pygments_lexer": "ipython3",
   "version": "3.10.8"
  }
 },
 "nbformat": 4,
 "nbformat_minor": 5
}
